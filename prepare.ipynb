{
 "cells": [
  {
   "cell_type": "code",
   "execution_count": null,
   "metadata": {},
   "outputs": [],
   "source": [
    "region_c_list = open('./src/RegionCenters', 'r').readlines()\n",
    "region_c_dict = dict(\n",
    "    zip([k.split('_')[0] for k in region_c_list], [\n",
    "        k.split('_')[1]+'_'+k.split('_')[2] for k in region_c_list]))"
   ]
  }
 ],
 "metadata": {
  "kernelspec": {
   "display_name": "Python 3.6.7 ('air')",
   "language": "python",
   "name": "python3"
  },
  "language_info": {
   "name": "python",
   "version": "3.6.7"
  },
  "orig_nbformat": 4,
  "vscode": {
   "interpreter": {
    "hash": "101f1b56c7b0aaedce93e947b01c71d6e0137936370dea003b7a89b2b3665725"
   }
  }
 },
 "nbformat": 4,
 "nbformat_minor": 2
}
