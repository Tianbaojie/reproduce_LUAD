{
 "cells": [
  {
   "cell_type": "code",
   "execution_count": 1,
   "metadata": {},
   "outputs": [],
   "source": [
    "import datetime\n",
    "import pandas as pd\n",
    "foursquare = open('./input/fs_data.txt', 'r').readlines()\n",
    "foursquare = [k.split('_') for k in foursquare]\n",
    "foursquare=[[id,datetime.datetime.strptime(date, \"%Y%m%d%H%M\"),eval(lon),eval(lat)] for id,date,lat,lon in foursquare]\n",
    "foursquare=pd.DataFrame(foursquare,columns=['userId','date','lon','lat'])"
   ]
  },
  {
   "cell_type": "code",
   "execution_count": 2,
   "metadata": {},
   "outputs": [
    {
     "data": {
      "text/plain": [
       "Timestamp('2010-03-04 19:25:00')"
      ]
     },
     "execution_count": 2,
     "metadata": {},
     "output_type": "execute_result"
    }
   ],
   "source": [
    "foursquare.date.min()"
   ]
  },
  {
   "cell_type": "code",
   "execution_count": 3,
   "metadata": {},
   "outputs": [],
   "source": [
    "beginTime=datetime.datetime.strptime('200810200000', \"%Y%m%d%H%M\")\n",
    "foursquare['dateId']=foursquare.date.apply(lambda x:(x-beginTime).days)"
   ]
  },
  {
   "cell_type": "code",
   "execution_count": 4,
   "metadata": {},
   "outputs": [
    {
     "data": {
      "text/plain": [
       "40.73"
      ]
     },
     "execution_count": 4,
     "metadata": {},
     "output_type": "execute_result"
    }
   ],
   "source": [
    "round(40.732173,2)"
   ]
  },
  {
   "cell_type": "code",
   "execution_count": 5,
   "metadata": {},
   "outputs": [
    {
     "data": {
      "text/plain": [
       "100000.0"
      ]
     },
     "execution_count": 5,
     "metadata": {},
     "output_type": "execute_result"
    }
   ],
   "source": [
    "1e5"
   ]
  },
  {
   "cell_type": "code",
   "execution_count": 6,
   "metadata": {},
   "outputs": [
    {
     "data": {
      "text/plain": [
       "userId            object\n",
       "date      datetime64[ns]\n",
       "lon              float64\n",
       "lat              float64\n",
       "dateId             int64\n",
       "dtype: object"
      ]
     },
     "execution_count": 6,
     "metadata": {},
     "output_type": "execute_result"
    }
   ],
   "source": [
    "foursquare.dtypes"
   ]
  },
  {
   "cell_type": "code",
   "execution_count": 7,
   "metadata": {},
   "outputs": [],
   "source": [
    "foursquare['binId']=foursquare.apply(lambda x:str(int((round(x[2],2)+180)*1e7+(round(x[3],2)+180)*100)),axis=1)"
   ]
  },
  {
   "cell_type": "code",
   "execution_count": 8,
   "metadata": {},
   "outputs": [],
   "source": [
    "foursquare=foursquare[['userId', 'dateId', 'binId']]"
   ]
  },
  {
   "cell_type": "code",
   "execution_count": 9,
   "metadata": {},
   "outputs": [
    {
     "data": {
      "text/html": [
       "<div>\n",
       "<style scoped>\n",
       "    .dataframe tbody tr th:only-of-type {\n",
       "        vertical-align: middle;\n",
       "    }\n",
       "\n",
       "    .dataframe tbody tr th {\n",
       "        vertical-align: top;\n",
       "    }\n",
       "\n",
       "    .dataframe thead th {\n",
       "        text-align: right;\n",
       "    }\n",
       "</style>\n",
       "<table border=\"1\" class=\"dataframe\">\n",
       "  <thead>\n",
       "    <tr style=\"text-align: right;\">\n",
       "      <th></th>\n",
       "      <th>userId</th>\n",
       "      <th>dateId</th>\n",
       "      <th>binId</th>\n",
       "    </tr>\n",
       "  </thead>\n",
       "  <tbody>\n",
       "    <tr>\n",
       "      <th>0</th>\n",
       "      <td>1</td>\n",
       "      <td>1020</td>\n",
       "      <td>223120133</td>\n",
       "    </tr>\n",
       "    <tr>\n",
       "      <th>1</th>\n",
       "      <td>1</td>\n",
       "      <td>1021</td>\n",
       "      <td>221920130</td>\n",
       "    </tr>\n",
       "    <tr>\n",
       "      <th>2</th>\n",
       "      <td>1</td>\n",
       "      <td>1021</td>\n",
       "      <td>221920130</td>\n",
       "    </tr>\n",
       "    <tr>\n",
       "      <th>3</th>\n",
       "      <td>1</td>\n",
       "      <td>1023</td>\n",
       "      <td>221420130</td>\n",
       "    </tr>\n",
       "    <tr>\n",
       "      <th>4</th>\n",
       "      <td>1</td>\n",
       "      <td>1023</td>\n",
       "      <td>221420130</td>\n",
       "    </tr>\n",
       "    <tr>\n",
       "      <th>...</th>\n",
       "      <td>...</td>\n",
       "      <td>...</td>\n",
       "      <td>...</td>\n",
       "    </tr>\n",
       "    <tr>\n",
       "      <th>53332</th>\n",
       "      <td>998</td>\n",
       "      <td>1120</td>\n",
       "      <td>573322550</td>\n",
       "    </tr>\n",
       "    <tr>\n",
       "      <th>53333</th>\n",
       "      <td>998</td>\n",
       "      <td>1120</td>\n",
       "      <td>573322550</td>\n",
       "    </tr>\n",
       "    <tr>\n",
       "      <th>53334</th>\n",
       "      <td>998</td>\n",
       "      <td>1121</td>\n",
       "      <td>573522550</td>\n",
       "    </tr>\n",
       "    <tr>\n",
       "      <th>53335</th>\n",
       "      <td>998</td>\n",
       "      <td>1121</td>\n",
       "      <td>573722550</td>\n",
       "    </tr>\n",
       "    <tr>\n",
       "      <th>53336</th>\n",
       "      <td>999</td>\n",
       "      <td>1074</td>\n",
       "      <td>678821359</td>\n",
       "    </tr>\n",
       "  </tbody>\n",
       "</table>\n",
       "<p>53337 rows × 3 columns</p>\n",
       "</div>"
      ],
      "text/plain": [
       "      userId  dateId      binId\n",
       "0          1    1020  223120133\n",
       "1          1    1021  221920130\n",
       "2          1    1021  221920130\n",
       "3          1    1023  221420130\n",
       "4          1    1023  221420130\n",
       "...      ...     ...        ...\n",
       "53332    998    1120  573322550\n",
       "53333    998    1120  573322550\n",
       "53334    998    1121  573522550\n",
       "53335    998    1121  573722550\n",
       "53336    999    1074  678821359\n",
       "\n",
       "[53337 rows x 3 columns]"
      ]
     },
     "execution_count": 9,
     "metadata": {},
     "output_type": "execute_result"
    }
   ],
   "source": [
    "foursquare.sort_values(by=['userId', 'dateId'], ascending=True, inplace=True)\n",
    "foursquare.reset_index(drop=True,inplace=True)\n",
    "foursquare"
   ]
  },
  {
   "cell_type": "code",
   "execution_count": 10,
   "metadata": {},
   "outputs": [],
   "source": [
    "def flat2txt(dff):\n",
    "    df=dff.reset_index(drop=True)\n",
    "    userid=df.userId[0]\n",
    "    ans=userid+';|'\n",
    "    ans+=df[['dateId','binId']].apply(lambda x:str(x[0])+','+str(x[1])+'|',axis=1).sum()\n",
    "    return ans"
   ]
  },
  {
   "cell_type": "code",
   "execution_count": 11,
   "metadata": {},
   "outputs": [],
   "source": [
    "foursquareExample=foursquare.groupby(by='userId').apply(flat2txt).tolist()"
   ]
  },
  {
   "cell_type": "code",
   "execution_count": 12,
   "metadata": {},
   "outputs": [],
   "source": [
    "fw = open('./input/fs_example.txt', 'w')\n",
    "for i in foursquareExample:\n",
    "    fw.write(i+'\\n')\n",
    "fw.close()"
   ]
  }
 ],
 "metadata": {
  "kernelspec": {
   "display_name": "Python 3.6.7 ('air')",
   "language": "python",
   "name": "python3"
  },
  "language_info": {
   "codemirror_mode": {
    "name": "ipython",
    "version": 3
   },
   "file_extension": ".py",
   "mimetype": "text/x-python",
   "name": "python",
   "nbconvert_exporter": "python",
   "pygments_lexer": "ipython3",
   "version": "3.6.7"
  },
  "orig_nbformat": 4,
  "vscode": {
   "interpreter": {
    "hash": "101f1b56c7b0aaedce93e947b01c71d6e0137936370dea003b7a89b2b3665725"
   }
  }
 },
 "nbformat": 4,
 "nbformat_minor": 2
}
