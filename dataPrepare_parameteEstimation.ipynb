{
 "cells": [
  {
   "cell_type": "code",
   "execution_count": 1,
   "metadata": {},
   "outputs": [],
   "source": [
    "import datetime\n",
    "import pandas as pd"
   ]
  },
  {
   "cell_type": "code",
   "execution_count": 2,
   "metadata": {},
   "outputs": [],
   "source": [
    "def getData(domain):\n",
    "    foursquare = open(f'./input/{domain}_data.txt', 'r').readlines()\n",
    "    foursquare = [k.split('_') for k in foursquare]\n",
    "    foursquare=[[id,datetime.datetime.strptime(date, \"%Y%m%d%H%M\"),eval(lon),eval(lat)] for id,date,lat,lon in foursquare]\n",
    "    foursquare=pd.DataFrame(foursquare,columns=['userId','date','lon','lat'])\n",
    "    beginTime=datetime.datetime.strptime('200001010000', \"%Y%m%d%H%M\")\n",
    "    foursquare['dateId']=foursquare.date.apply(lambda x:(x-beginTime).days)\n",
    "    foursquare['binId']=foursquare.apply(lambda x:str(int((round(x[2],2)+180)*1e7+(round(x[3],2)+180)*100)),axis=1)\n",
    "    foursquare=foursquare[['userId', 'dateId', 'binId']]\n",
    "    foursquare.sort_values(by=['userId', 'dateId'], ascending=True, inplace=True)\n",
    "    foursquare.reset_index(drop=True,inplace=True)\n",
    "    foursquare['domain']=[domain]*len(foursquare)\n",
    "    return foursquare\n"
   ]
  },
  {
   "cell_type": "code",
   "execution_count": 3,
   "metadata": {},
   "outputs": [],
   "source": [
    "def flat2txt(dff):\n",
    "    df=dff.reset_index(drop=True)\n",
    "    userid=df.userId[0]\n",
    "    ans=userid+';|'\n",
    "    ans+=df[['dateId','binId']].apply(lambda x:str(x[0])+','+str(x[1])+'|',axis=1).sum()\n",
    "    return ans\n",
    "def write2txt(df,domain):\n",
    "    foursquareExample=df.groupby(by='userId').apply(flat2txt).tolist()\n",
    "    fw = open(f'./input/{domain}_example.txt', 'w')\n",
    "    for i in foursquareExample:\n",
    "        fw.write(i+'\\n')\n",
    "    fw.close()"
   ]
  },
  {
   "cell_type": "code",
   "execution_count": 4,
   "metadata": {},
   "outputs": [],
   "source": [
    "foursquare=getData(domain='fs')\n",
    "write2txt(foursquare,domain='fs')\n",
    "twitter=getData(domain='tt')\n",
    "write2txt(twitter,domain='tt')"
   ]
  },
  {
   "cell_type": "code",
   "execution_count": 5,
   "metadata": {},
   "outputs": [
    {
     "data": {
      "text/html": [
       "<div>\n",
       "<style scoped>\n",
       "    .dataframe tbody tr th:only-of-type {\n",
       "        vertical-align: middle;\n",
       "    }\n",
       "\n",
       "    .dataframe tbody tr th {\n",
       "        vertical-align: top;\n",
       "    }\n",
       "\n",
       "    .dataframe thead th {\n",
       "        text-align: right;\n",
       "    }\n",
       "</style>\n",
       "<table border=\"1\" class=\"dataframe\">\n",
       "  <thead>\n",
       "    <tr style=\"text-align: right;\">\n",
       "      <th></th>\n",
       "      <th>userId</th>\n",
       "      <th>dateId</th>\n",
       "      <th>binId</th>\n",
       "      <th>domain</th>\n",
       "    </tr>\n",
       "  </thead>\n",
       "  <tbody>\n",
       "    <tr>\n",
       "      <th>0</th>\n",
       "      <td>1</td>\n",
       "      <td>4235</td>\n",
       "      <td>223120133</td>\n",
       "      <td>tt</td>\n",
       "    </tr>\n",
       "    <tr>\n",
       "      <th>1</th>\n",
       "      <td>1</td>\n",
       "      <td>4236</td>\n",
       "      <td>221920130</td>\n",
       "      <td>tt</td>\n",
       "    </tr>\n",
       "    <tr>\n",
       "      <th>2</th>\n",
       "      <td>1</td>\n",
       "      <td>4236</td>\n",
       "      <td>221920130</td>\n",
       "      <td>tt</td>\n",
       "    </tr>\n",
       "    <tr>\n",
       "      <th>3</th>\n",
       "      <td>1</td>\n",
       "      <td>4238</td>\n",
       "      <td>221420130</td>\n",
       "      <td>tt</td>\n",
       "    </tr>\n",
       "    <tr>\n",
       "      <th>4</th>\n",
       "      <td>1</td>\n",
       "      <td>4238</td>\n",
       "      <td>221420130</td>\n",
       "      <td>tt</td>\n",
       "    </tr>\n",
       "    <tr>\n",
       "      <th>...</th>\n",
       "      <td>...</td>\n",
       "      <td>...</td>\n",
       "      <td>...</td>\n",
       "      <td>...</td>\n",
       "    </tr>\n",
       "    <tr>\n",
       "      <th>98247</th>\n",
       "      <td>99</td>\n",
       "      <td>4373</td>\n",
       "      <td>1053621945</td>\n",
       "      <td>fs</td>\n",
       "    </tr>\n",
       "    <tr>\n",
       "      <th>98248</th>\n",
       "      <td>99</td>\n",
       "      <td>4391</td>\n",
       "      <td>1059922071</td>\n",
       "      <td>fs</td>\n",
       "    </tr>\n",
       "    <tr>\n",
       "      <th>98249</th>\n",
       "      <td>99</td>\n",
       "      <td>4422</td>\n",
       "      <td>235520072</td>\n",
       "      <td>fs</td>\n",
       "    </tr>\n",
       "    <tr>\n",
       "      <th>98250</th>\n",
       "      <td>99</td>\n",
       "      <td>4481</td>\n",
       "      <td>1060222074</td>\n",
       "      <td>fs</td>\n",
       "    </tr>\n",
       "    <tr>\n",
       "      <th>98251</th>\n",
       "      <td>99</td>\n",
       "      <td>4549</td>\n",
       "      <td>576021777</td>\n",
       "      <td>fs</td>\n",
       "    </tr>\n",
       "  </tbody>\n",
       "</table>\n",
       "<p>98252 rows × 4 columns</p>\n",
       "</div>"
      ],
      "text/plain": [
       "      userId  dateId       binId domain\n",
       "0          1    4235   223120133     tt\n",
       "1          1    4236   221920130     tt\n",
       "2          1    4236   221920130     tt\n",
       "3          1    4238   221420130     tt\n",
       "4          1    4238   221420130     tt\n",
       "...      ...     ...         ...    ...\n",
       "98247     99    4373  1053621945     fs\n",
       "98248     99    4391  1059922071     fs\n",
       "98249     99    4422   235520072     fs\n",
       "98250     99    4481  1060222074     fs\n",
       "98251     99    4549   576021777     fs\n",
       "\n",
       "[98252 rows x 4 columns]"
      ]
     },
     "execution_count": 5,
     "metadata": {},
     "output_type": "execute_result"
    }
   ],
   "source": [
    "data=twitter.append(foursquare).reset_index(drop=True)\n",
    "data"
   ]
  },
  {
   "cell_type": "markdown",
   "metadata": {},
   "source": [
    "$$\\rho_l \\approx \\frac{\\sum_u \\sum_t a_i(u, l, t)}{\\sum_u \\sum_t \\sum_l a_i(u, l, t)}$$"
   ]
  },
  {
   "cell_type": "code",
   "execution_count": 6,
   "metadata": {},
   "outputs": [],
   "source": [
    "rhoL=data.groupby(by='binId').apply(lambda x:x.shape[0]/data.shape[0])\n",
    "rhoL=pd.DataFrame(rhoL,columns=['rhoL'])\n",
    "rhoL=rhoL.to_dict()['rhoL']"
   ]
  },
  {
   "cell_type": "markdown",
   "metadata": {},
   "source": [
    "$$p_2 \\approx \\frac{\\sum_u \\sum_t \\sum_l \\min \\left(a_1(u, l, t), a_2\\left(\\sigma_I(u), l, t\\right)\\right)}{\\sum_u \\sum_t \\sum_l a_1(u, l, t)}$$\n",
    "\n",
    "$$p_1 \\approx \\frac{\\sum_u \\sum_t \\sum_l \\min \\left(a_1(u, l, t), a_2\\left(\\sigma_I(u), l, t\\right)\\right)}{\\sum_u \\sum_t \\sum_l a_2(u, l, t)}$$\n",
    "$$\n",
    "1=foursquare\n",
    "$$\n",
    "$$\n",
    "2=twitter\n",
    "$$"
   ]
  },
  {
   "cell_type": "code",
   "execution_count": 7,
   "metadata": {},
   "outputs": [],
   "source": [
    "numerator=data.groupby(by=['userId', 'dateId', 'binId']).apply(lambda x:min(x[x['domain']=='fs'].shape[0],x[x['domain']=='tt'].shape[0])).sum()"
   ]
  },
  {
   "cell_type": "code",
   "execution_count": 8,
   "metadata": {},
   "outputs": [],
   "source": [
    "p1=numerator/data[data['domain']=='tt'].shape[0]\n",
    "p2=numerator/data[data['domain']=='fs'].shape[0]"
   ]
  },
  {
   "cell_type": "code",
   "execution_count": 9,
   "metadata": {},
   "outputs": [
    {
     "data": {
      "text/plain": [
       "0.00129366106080207"
      ]
     },
     "execution_count": 9,
     "metadata": {},
     "output_type": "execute_result"
    }
   ],
   "source": [
    "p1"
   ]
  },
  {
   "cell_type": "code",
   "execution_count": 10,
   "metadata": {},
   "outputs": [
    {
     "data": {
      "text/plain": [
       "0.001536235110764778"
      ]
     },
     "execution_count": 10,
     "metadata": {},
     "output_type": "execute_result"
    }
   ],
   "source": [
    "p2"
   ]
  },
  {
   "cell_type": "markdown",
   "metadata": {},
   "source": [
    "$$\\lambda \\approx \\frac{1}{(|U|+|V|)|T|} \\sum_l\\left(\\frac{\\sum_{u, t} a_1(u, l, t)}{p_1 \\rho_l}+\\frac{\\sum_{v, t} a_2(v, l, t)}{p_2 \\rho_l}\\right)$$"
   ]
  },
  {
   "cell_type": "code",
   "execution_count": 11,
   "metadata": {},
   "outputs": [],
   "source": [
    "T=data.dateId.max()-data.dateId.min()\n",
    "UPlusV=foursquare.userId.unique().shape[0]+twitter.userId.unique().shape[0]"
   ]
  },
  {
   "cell_type": "code",
   "execution_count": 12,
   "metadata": {},
   "outputs": [],
   "source": [
    "def caculate(df):\n",
    "    binId=df.binId.tolist()[0]\n",
    "    rho_l=rhoL[binId]\n",
    "    return df[df['domain']=='fs'].shape[0]/(p1*rho_l)+df[df['domain']=='tt'].shape[0]/(p2*rho_l)"
   ]
  },
  {
   "cell_type": "code",
   "execution_count": 13,
   "metadata": {},
   "outputs": [],
   "source": [
    "Lambda=data.groupby(by='binId').apply(caculate).sum()/(UPlusV*T)"
   ]
  },
  {
   "cell_type": "code",
   "execution_count": 14,
   "metadata": {},
   "outputs": [
    {
     "data": {
      "text/plain": [
       "266419.927836945"
      ]
     },
     "execution_count": 14,
     "metadata": {},
     "output_type": "execute_result"
    }
   ],
   "source": [
    "Lambda"
   ]
  }
 ],
 "metadata": {
  "kernelspec": {
   "display_name": "Python 3.6.7 ('air')",
   "language": "python",
   "name": "python3"
  },
  "language_info": {
   "codemirror_mode": {
    "name": "ipython",
    "version": 3
   },
   "file_extension": ".py",
   "mimetype": "text/x-python",
   "name": "python",
   "nbconvert_exporter": "python",
   "pygments_lexer": "ipython3",
   "version": "3.6.7"
  },
  "orig_nbformat": 4,
  "vscode": {
   "interpreter": {
    "hash": "101f1b56c7b0aaedce93e947b01c71d6e0137936370dea003b7a89b2b3665725"
   }
  }
 },
 "nbformat": 4,
 "nbformat_minor": 2
}
